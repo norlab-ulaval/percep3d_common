{
 "cells": [
  {
   "cell_type": "code",
   "execution_count": 43,
   "metadata": {},
   "outputs": [],
   "source": [
    "class Module():\n",
    "    def __init__(self, name, path):\n",
    "        self.name = name\n",
    "        self.path = path\n",
    "        self.time = 0 #in minutes\n",
    "        self.lessons = []\n",
    "        self.activities = []\n",
    "        pass\n",
    "    def add_lesson(self, lesson):\n",
    "        self.lessons.append(lesson)\n",
    "        self.time += lesson.time\n",
    "        pass\n",
    "    def add_activity(self, activity):\n",
    "        self.activities.append(activity)\n",
    "        self.time += activity.time\n",
    "        pass\n",
    "    def print_stats(self):\n",
    "        '''\n",
    "        Return number of exercises and ratio of time\n",
    "        '''\n",
    "        \n",
    "        for ac_type in Activity.types:\n",
    "            count = 0\n",
    "            time = 0\n",
    "            for lesson in self.lessons:\n",
    "                for activity in lesson.activities:\n",
    "                    if(activity.type == ac_type):\n",
    "                        time += activity.time\n",
    "                        count += 1\n",
    "            for activity in self.activities:\n",
    "                if(activity.type == ac_type):\n",
    "                    count += 1\n",
    "                    time = activity.time\n",
    "            print(\"nb \", ac_type, \": \", count, \"(%.0f %%)\" % ((time/self.time)*100))\n",
    "    \n",
    "class Lesson():\n",
    "    def __init__(self, name, path):\n",
    "        self.name=name\n",
    "        self.path=path\n",
    "        self.time = 0 #in minutes\n",
    "        self.activities = []\n",
    "        pass\n",
    "    def add_activity(self, activity):\n",
    "        self.activities.append(activity)\n",
    "        self.time += activity.time\n",
    "        pass\n",
    "    \n",
    "class Activity():\n",
    "    types = [\"reading\", \"exercise\", \"assignment\", \"video\"]\n",
    "    def __init__(self, type_ac, time, name=\"\", path=\"\"):\n",
    "        assert(type_ac in self.types), \"Type must be: %s\" % ', '.join(map(str, self.type))\n",
    "        self.type=type_ac\n",
    "        self.time=time\n",
    "        self.name=name\n",
    "        self.path=path\n",
    "        pass\n",
    "        "
   ]
  },
  {
   "cell_type": "code",
   "execution_count": 44,
   "metadata": {},
   "outputs": [
    {
     "name": "stdout",
     "output_type": "stream",
     "text": [
      "Flat land time: 20.0 h\n",
      "nb  reading :  3 (15 %)\n",
      "nb  exercise :  7 (55 %)\n",
      "nb  assignment :  1 (30 %)\n",
      "nb  video :  0 (0 %)\n",
      "Number of lessons:  None\n"
     ]
    }
   ],
   "source": [
    "flat = Module(\"Welcome to a flat world\", \"lessons/transformations_2d/0-overview.ipynb\")\n",
    "\n",
    "coord_2d = Lesson(\"Coordinate systems in 2D\", \"lessons/transformations_2d/1-lesson_coordinates.ipynb\")\n",
    "coord_2d.add_activity(Activity(\"reading\", time=60))\n",
    "coord_2d.add_activity(Activity(\"exercise\", time=10))\n",
    "coord_2d.add_activity(Activity(\"exercise\", time=60*3))\n",
    "coord_2d.add_activity(Activity(\"exercise\", time=60*3))\n",
    "flat.add_lesson(coord_2d)\n",
    "\n",
    "trans_2d = Lesson(\"Transformation functions in 2D\", \"lessons/transformations_2d/2-lesson_transformation.ipynb\")\n",
    "trans_2d.add_activity(Activity(\"reading\", time=60))\n",
    "trans_2d.add_activity(Activity(\"exercise\", time=30))\n",
    "trans_2d.add_activity(Activity(\"exercise\", time=20))\n",
    "flat.add_lesson(trans_2d)\n",
    "\n",
    "rigid_2d = Lesson(\"Rigid transformation in 2D\", \"lessons/transformations_2d/3-lesson_rigid.ipynb\")\n",
    "rigid_2d.add_activity(Activity(\"reading\", time=60))\n",
    "rigid_2d.add_activity(Activity(\"exercise\", time=60))\n",
    "rigid_2d.add_activity(Activity(\"exercise\", time=60*3))\n",
    "flat.add_lesson(rigid_2d)\n",
    "\n",
    "flat.add_activity(Activity(\"assignment\", time=60*6, path=\"lessons/transformations_2d/4-assignment_flat_world.ipynb\"))\n",
    "\n",
    "print(\"Flat land time: %.1f h\" % (flat.time/60))\n",
    "print(\"Number of lessons: \", flat.print_stats())\n",
    "\n",
    "\n",
    "            \n"
   ]
  },
  {
   "cell_type": "code",
   "execution_count": 3,
   "metadata": {},
   "outputs": [
    {
     "name": "stdout",
     "output_type": "stream",
     "text": [
      "How hard 3D time: 0.0 h\n"
     ]
    }
   ],
   "source": [
    "how_hard = Module(\"How hard can it be in 3D?\", \"lessons/transformations_3d/0-overview.ipynb\")\n",
    "\n",
    "print(\"How hard 3D time: %.1f h\" % (how_hard.time/60))"
   ]
  }
 ],
 "metadata": {
  "kernelspec": {
   "display_name": "Python 3",
   "language": "python",
   "name": "python3"
  },
  "language_info": {
   "codemirror_mode": {
    "name": "ipython",
    "version": 3
   },
   "file_extension": ".py",
   "mimetype": "text/x-python",
   "name": "python",
   "nbconvert_exporter": "python",
   "pygments_lexer": "ipython3",
   "version": "3.8.2"
  }
 },
 "nbformat": 4,
 "nbformat_minor": 4
}
